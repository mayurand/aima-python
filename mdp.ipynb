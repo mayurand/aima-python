{
 "cells": [
  {
   "cell_type": "markdown",
   "metadata": {},
   "source": [
    "# Markov decision processes (MDPs)\n",
    "\n",
    "This IPy notebook acts as supporting material for topics covered in **Chapter 17 Making Complex Decisions** of the book* Artificial Intelligence: A Modern Approach*. We makes use of the implementations in mdp.py module. This notebook also includes a brief summary of the main topics as a review. Let us import everything from the mdp module to get started."
   ]
  },
  {
   "cell_type": "code",
   "execution_count": 52,
   "metadata": {
    "collapsed": true
   },
   "outputs": [],
   "source": [
    "from mdp import MDP, GridMDP, sequential_decision_environment, value_iteration"
   ]
  },
  {
   "cell_type": "markdown",
   "metadata": {},
   "source": [
    "## Review\n",
    "\n",
    "Before we start playing with the actual implementations let us review a couple of things about MDPs.\n",
    "\n",
    "- A stochastic process has the **Markov property** if the conditional probability distribution of future states of the process (conditional on both past and present states) depends only upon the present state, not on the sequence of events that preceded it.\n",
    "\n",
    "    -- Source: [Wikipedia](https://en.wikipedia.org/wiki/Markov_property)\n",
    "\n",
    "Often it is possible to model many different phenomena as a Markov process by being flexible with our definition of state.\n",
    "   \n",
    "\n",
    "- MDPs help us deal with fully-observable and non-deterministic/stochastic environments. For dealing with partially-observable and stochastic cases we make use of generalization of MDPs named POMDPs (partially observable Markov decision process).\n",
    "\n",
    "### Our overall goal to solve a MDP is to come up with a policy which guides us to select the best action in each state so as to maximize the expected sum of future rewards."
   ]
  },
  {
   "cell_type": "markdown",
   "metadata": {},
   "source": [
    "## MDP\n",
    "\n",
    "To begin with let us look at the implementation of MDP class defined in mdp.py The docstring tells us what all is required to define a MDP namely - set of states,actions, initial state, transition model, and a reward function. Each of these are implemented as methods. Do not close the popup so that you can follow along the description of code below."
   ]
  },
  {
   "cell_type": "code",
   "execution_count": 16,
   "metadata": {
    "collapsed": false
   },
   "outputs": [],
   "source": [
    "%psource MDPdelta"
   ]
  },
  {
   "cell_type": "markdown",
   "metadata": {},
   "source": [
    "The **_ _init_ _** method takes in the following parameters:\n",
    "\n",
    "- init: the initial state.\n",
    "- actlist: List of actions possible in each state.\n",
    "- terminals: List of terminal states where only possible action is exit\n",
    "- gamma: Discounting factor. This makes sure that delayed rewards have less value compared to immediate ones.\n",
    "\n",
    "**R** method returns the reward for each state by using the self.reward dict.\n",
    "\n",
    "**T** method is not implemented and is somewhat different from the text. Here we return (probability, s') pairs where s' belongs to list of possible state by taking action a in state s.\n",
    "\n",
    "**actions** method returns list of actions possible in each state. By default it returns all actions for states other than terminal states.\n"
   ]
  },
  {
   "cell_type": "markdown",
   "metadata": {},
   "source": [
    "Now let us implement the simple MDP in the image below. States A, B have actions X, Y available in them. Their probabilities are shown just above the arrows. We start with using MDP as base class for our CustomMDP. Obviously we need to make a few changes to suit our case. We make use of a transition matrix as our transitions are not very simple.\n",
    "<img src=\"files/images/mdp-a.png\">"
   ]
  },
  {
   "cell_type": "code",
   "execution_count": 17,
   "metadata": {
    "collapsed": true
   },
   "outputs": [],
   "source": [
    "# Transition Matrix as nested dict. State -> Actions in state -> States by each action -> Probabilty\n",
    "t = {\n",
    "    \"A\": {\n",
    "            \"X\": {\"A\":0.3, \"B\":0.7},\n",
    "            \"Y\": {\"A\":1.0}\n",
    "         },\n",
    "    \"B\": {\n",
    "            \"X\": {\"End\":0.8, \"B\":0.2},\n",
    "            \"Y\": {\"A\":1.0}\n",
    "         },\n",
    "    \"End\": {}\n",
    "}\n",
    "\n",
    "init = \"A\"\n",
    "\n",
    "terminals = [\"End\"]\n",
    "\n",
    "rewards = {\n",
    "    \"A\": 5,\n",
    "    \"B\": -10,\n",
    "    \"End\": 100\n",
    "}"
   ]
  },
  {
   "cell_type": "code",
   "execution_count": 18,
   "metadata": {
    "collapsed": false
   },
   "outputs": [],
   "source": [
    "class CustomMDP(MDP):\n",
    "\n",
    "    def __init__(self, transition_matrix, rewards, terminals, init, gamma=.9):\n",
    "        # All possible actions.\n",
    "        actlist = []\n",
    "        for state in transition_matrix.keys():\n",
    "            actlist.extend(transition_matrix.keys())\n",
    "        actlist = list(set(actlist))\n",
    "\n",
    "        MDP.__init__(self, init, actlist, terminals=terminals, gamma=gamma)\n",
    "        self.t = transition_matrix\n",
    "        self.reward = rewards\n",
    "        for state in self.t:\n",
    "            self.states.add(state)\n",
    "\n",
    "    def T(self, state, action):\n",
    "        return [(new_state, prob) for new_state, prob in self.t[state][action].items()]"
   ]
  },
  {
   "cell_type": "markdown",
   "metadata": {},
   "source": [
    "Finally we instantize the class with the parameters for our MDP in the picture."
   ]
  },
  {
   "cell_type": "code",
   "execution_count": 30,
   "metadata": {
    "collapsed": false
   },
   "outputs": [],
   "source": [
    "our_mdp = CustomMDP(t, rewards, terminals, init, gamma=.9)"
   ]
  },
  {
   "cell_type": "markdown",
   "metadata": {},
   "source": [
    "With this we have sucessfully represented our MDP. Later we will look at ways to solve this MDP."
   ]
  },
  {
   "cell_type": "markdown",
   "metadata": {},
   "source": [
    "## Grid MDP\n",
    "\n",
    "Now we look at a concrete implementation that makes use of the MDP as base class. The GridMDP class in the mdp module is used to represent a grid world MDP like the one shown in  in **Fig 17.1** of the AIMA Book. The code should be easy to understand if you have gone through the CustomMDP example.\n",
    "\n"
   ]
  },
  {
   "cell_type": "code",
   "execution_count": 31,
   "metadata": {
    "collapsed": true
   },
   "outputs": [],
   "source": [
    "%psource GridMDP"
   ]
  },
  {
   "cell_type": "markdown",
   "metadata": {},
   "source": [
    "The **_ _init_ _** method takes **grid** as an extra parameter compared to the MDP class. The grid is a nested list of rewards in states.\n",
    "\n",
    "**go** method returns the state by going in particular direction by using vector_add.\n",
    "\n",
    "**T** method takes state and action as input. It returns the probabilities for actions selected.\n",
    "\n",
    "**actions** method returns list of actions possible in each state. By default it returns all actions for states other than terminal states.\n",
    "\n",
    "**to_arrows** are used for representing the policy in a grid like format."
   ]
  },
  {
   "cell_type": "markdown",
   "metadata": {},
   "source": [
    "We can create a GridMDP like the one in **Fig 17.1** as follows: \n",
    "\n",
    "    GridMDP([[-0.04, -0.04, -0.04, +1],\n",
    "            [-0.04, None,  -0.04, -1],\n",
    "            [-0.04, -0.04, -0.04, -0.04]],\n",
    "            terminals=[(3, 2), (3, 1)])\n",
    "            \n",
    "In fact the **sequential_decision_environment** in mdp module has been instantized using the exact same code."
   ]
  },
  {
   "cell_type": "code",
   "execution_count": 53,
   "metadata": {
    "collapsed": false
   },
   "outputs": [
    {
     "data": {
      "text/plain": [
       "<mdp.GridMDP at 0x7fbe24b7ca58>"
      ]
     },
     "execution_count": 53,
     "metadata": {},
     "output_type": "execute_result"
    }
   ],
   "source": [
    "sequential_decision_environment"
   ]
  },
  {
   "cell_type": "markdown",
   "metadata": {
    "collapsed": true
   },
   "source": [
    "# Value Iteration\n",
    "\n",
    "Now that we have looked how to represent MDPs. Let's aim at solving them. Our ultimate goal is to obtain an optimal policy. We start with looking at Value Iteration and a visualisation that should help us understanding it better.\n",
    "\n",
    "We start by calculating Value/Utility for each of the states. The Value of each state is the expected sum of discounted future rewards given we start in that state and follow a particular policy pi.The algorithm Value Iteration (**Fig. 17.4** in the book) relies on finding solutions of the Bellman's Equation. The intuition Value Iteration works is because values propagate. This point will we more clear after we encounter the visualisation. For more information you can refer to **Section 17.2** of the book. \n"
   ]
  },
  {
   "cell_type": "code",
   "execution_count": 54,
   "metadata": {
    "collapsed": false
   },
   "outputs": [],
   "source": [
    "%psource value_iteration"
   ]
  },
  {
   "cell_type": "markdown",
   "metadata": {},
   "source": [
    "It takes as inputs two parameters an MDP to solve and epsilon the maximum error allowed in the utility of any state. It returns a dictionary containing utilities where the keys are the states and values represent utilities. Let us solve the **sequencial_decision_enviornment** GridMDP.\n"
   ]
  },
  {
   "cell_type": "code",
   "execution_count": 67,
   "metadata": {
    "collapsed": false
   },
   "outputs": [
    {
     "name": "stdout",
     "output_type": "stream",
     "text": [
      "U: {(0, 1): 0, (1, 2): 0, (3, 2): 0, (0, 0): 0, (3, 0): 0, (3, 1): 0, (2, 1): 0, (2, 0): 0, (2, 2): 0, (1, 0): 0, (0, 2): 0}\n",
      "\n",
      "U1 {(0, 1): -0.04, (1, 2): -0.04, (3, 2): 1.0, (0, 0): -0.04, (2, 0): -0.04, (3, 0): -0.04, (1, 0): -0.04, (3, 1): -1.0, (2, 2): -0.04, (2, 1): -0.04, (0, 2): -0.04}\n",
      "\n",
      "\n",
      "U: {(0, 1): -0.04, (1, 2): -0.04, (3, 2): 1.0, (0, 0): -0.04, (3, 0): -0.04, (3, 1): -1.0, (2, 1): -0.04, (2, 0): -0.04, (2, 2): -0.04, (1, 0): -0.04, (0, 2): -0.04}\n",
      "\n",
      "U1 {(0, 1): -0.07600000000000001, (1, 2): -0.07600000000000001, (3, 2): 1.0, (0, 0): -0.07600000000000001, (2, 0): -0.07600000000000001, (3, 0): -0.07600000000000001, (1, 0): -0.07600000000000001, (3, 1): -1.0, (2, 2): 0.6728000000000001, (2, 1): -0.07600000000000001, (0, 2): -0.07600000000000001}\n",
      "\n",
      "\n",
      "U: {(0, 1): -0.07600000000000001, (1, 2): -0.07600000000000001, (3, 2): 1.0, (0, 0): -0.07600000000000001, (3, 0): -0.07600000000000001, (3, 1): -1.0, (2, 1): -0.07600000000000001, (2, 0): -0.07600000000000001, (2, 2): 0.6728000000000001, (1, 0): -0.07600000000000001, (0, 2): -0.07600000000000001}\n",
      "\n",
      "U1 {(0, 1): -0.10840000000000002, (1, 2): 0.430736, (3, 2): 1.0, (0, 0): -0.10840000000000002, (2, 0): -0.10840000000000002, (3, 0): -0.10840000000000002, (1, 0): -0.10840000000000002, (3, 1): -1.0, (2, 2): 0.733712, (2, 1): 0.3475760000000001, (0, 2): -0.10840000000000002}\n",
      "\n",
      "\n",
      "U: {(0, 1): -0.10840000000000002, (1, 2): 0.430736, (3, 2): 1.0, (0, 0): -0.10840000000000002, (3, 0): -0.10840000000000002, (3, 1): -1.0, (2, 1): 0.3475760000000001, (2, 0): -0.10840000000000002, (2, 2): 0.733712, (1, 0): -0.10840000000000002, (0, 2): -0.10840000000000002}\n",
      "\n",
      "U1 {(0, 1): -0.13756000000000002, (1, 2): 0.5658051200000002, (3, 2): 1.0, (0, 0): -0.13756000000000002, (2, 0): 0.19074272000000006, (3, 0): -0.13756000000000002, (1, 0): -0.13756000000000002, (3, 1): -1.0, (2, 2): 0.77731592, (2, 1): 0.4295544800000002, (0, 2): 0.25061792000000005}\n",
      "\n",
      "\n",
      "U: {(0, 1): -0.13756000000000002, (1, 2): 0.5658051200000002, (3, 2): 1.0, (0, 0): -0.13756000000000002, (3, 0): -0.13756000000000002, (3, 1): -1.0, (2, 1): 0.4295544800000002, (2, 0): 0.19074272000000006, (2, 2): 0.77731592, (1, 0): -0.13756000000000002, (0, 2): 0.25061792000000005}\n",
      "\n",
      "U1 {(0, 1): 0.11568410240000007, (1, 2): 0.6215123840000002, (3, 2): 1.0, (0, 0): -0.163804, (2, 0): 0.24451842560000017, (3, 0): -0.005045641599999963, (1, 0): 0.07257395840000005, (3, 1): -1.0, (2, 2): 0.7886183360000001, (2, 1): 0.46832736560000027, (0, 2): 0.3775548992000002}\n",
      "\n",
      "\n",
      "U: {(0, 1): 0.11568410240000007, (1, 2): 0.6215123840000002, (3, 2): 1.0, (0, 0): -0.163804, (3, 0): -0.005045641599999963, (3, 1): -1.0, (2, 1): 0.46832736560000027, (2, 0): 0.24451842560000017, (2, 2): 0.7886183360000001, (1, 0): 0.07257395840000005, (0, 2): 0.3775548992000002}\n",
      "\n",
      "U1 {(0, 1): 0.25266266585600017, (1, 2): 0.6396774310400002, (3, 2): 1.0, (0, 0): 0.03508184998400005, (2, 0): 0.30327325174400027, (3, 0): 0.04559915868800014, (1, 0): 0.14911657894400016, (3, 1): -1.0, (2, 2): 0.7931251131440001, (2, 1): 0.4799546648240001, (0, 2): 0.45188042662400024}\n",
      "\n",
      "\n",
      "U: {(0, 1): 0.25266266585600017, (1, 2): 0.6396774310400002, (3, 2): 1.0, (0, 0): 0.03508184998400005, (3, 0): 0.04559915868800014, (3, 1): -1.0, (2, 1): 0.4799546648240001, (2, 0): 0.30327325174400027, (2, 2): 0.7931251131440001, (1, 0): 0.14911657894400016, (0, 2): 0.45188042662400024}\n",
      "\n",
      "U1 {(0, 1): 0.33083318702336023, (1, 2): 0.6461920190508801, (3, 2): 1.0, (0, 0): 0.15849497801984014, (2, 0): 0.3230917750601602, (3, 0): 0.09246066553760018, (1, 0): 0.20519772546560022, (3, 1): -1.0, (2, 2): 0.7945771800171201, (2, 1): 0.4842460012978403, (0, 2): 0.48397662867200036}\n",
      "\n",
      "\n",
      "U: {(0, 1): 0.33083318702336023, (1, 2): 0.6461920190508801, (3, 2): 1.0, (0, 0): 0.15849497801984014, (3, 0): 0.09246066553760018, (3, 1): -1.0, (2, 1): 0.4842460012978403, (2, 0): 0.3230917750601602, (2, 2): 0.7945771800171201, (1, 0): 0.20519772546560022, (0, 2): 0.48397662867200036}\n",
      "\n",
      "U1 {(0, 1): 0.3680131463080452, (1, 2): 0.6484101330414849, (3, 2): 1.0, (0, 0): 0.23093223797050902, (2, 0): 0.3354463761247331, (3, 0): 0.11094753794169937, (1, 0): 0.22956166862712338, (3, 1): -1.0, (2, 2): 0.7950940863183464, (2, 1): 0.4856777097291322, (0, 2): 0.49859113712921616}\n",
      "\n",
      "\n",
      "U: {(0, 1): 0.3680131463080452, (1, 2): 0.6484101330414849, (3, 2): 1.0, (0, 0): 0.23093223797050902, (3, 0): 0.11094753794169937, (3, 1): -1.0, (2, 1): 0.4856777097291322, (2, 0): 0.3354463761247331, (2, 2): 0.7950940863183464, (1, 0): 0.22956166862712338, (0, 2): 0.49859113712921616}\n",
      "\n",
      "U1 {(0, 1): 0.38522798506848377, (1, 2): 0.6491815660966767, (3, 2): 1.0, (0, 0): 0.26641391693557953, (2, 0): 0.34033377959616934, (3, 0): 0.12150666922456077, (1, 0): 0.24284249116269005, (3, 1): -1.0, (2, 2): 0.795269461644273, (2, 1): 0.48617873602483136, (0, 2): 0.5048496812992226}\n",
      "\n",
      "\n",
      "U: {(0, 1): 0.38522798506848377, (1, 2): 0.6491815660966767, (3, 2): 1.0, (0, 0): 0.26641391693557953, (3, 0): 0.12150666922456077, (3, 1): -1.0, (2, 1): 0.48617873602483136, (2, 0): 0.34033377959616934, (2, 2): 0.795269461644273, (1, 0): 0.24284249116269005, (0, 2): 0.5048496812992226}\n",
      "\n",
      "U1 {(0, 1): 0.39283280784776736, (1, 2): 0.6494466942812784, (3, 2): 1.0, (0, 0): 0.28319722597815267, (2, 0): 0.3428401143727312, (3, 0): 0.12597592153945242, (1, 0): 0.24875196971852623, (3, 1): -1.0, (2, 2): 0.7953303377902194, (2, 1): 0.4863500986261115, (0, 2): 0.5075177175627008}\n",
      "\n",
      "\n",
      "U: {(0, 1): 0.39283280784776736, (1, 2): 0.6494466942812784, (3, 2): 1.0, (0, 0): 0.28319722597815267, (3, 0): 0.12597592153945242, (3, 1): -1.0, (2, 1): 0.4863500986261115, (2, 0): 0.3428401143727312, (2, 2): 0.7953303377902194, (1, 0): 0.24875196971852623, (0, 2): 0.5075177175627008}\n",
      "\n",
      "U1 {(0, 1): 0.3961226620577427, (1, 2): 0.649538248179588, (3, 2): 1.0, (0, 0): 0.2907150492630937, (2, 0): 0.3438975812240184, (3, 0): 0.1281827152869172, (1, 0): 0.2516202368977013, (3, 1): -1.0, (2, 2): 0.7953512392774699, (2, 1): 0.48640935208530817, (0, 2): 0.5086331671694626}\n",
      "\n",
      "\n",
      "U: {(0, 1): 0.3961226620577427, (1, 2): 0.649538248179588, (3, 2): 1.0, (0, 0): 0.2907150492630937, (3, 0): 0.1281827152869172, (3, 1): -1.0, (2, 1): 0.48640935208530817, (2, 0): 0.3438975812240184, (2, 2): 0.7953512392774699, (1, 0): 0.2516202368977013, (0, 2): 0.5086331671694626}\n",
      "\n",
      "U1 {(0, 1): 0.3975179595324069, (1, 2): 0.6495697769521042, (3, 2): 1.0, (0, 0): 0.29401849243604633, (2, 0): 0.34439699919803757, (3, 0): 0.12914270285711582, (1, 0): 0.2528979011228795, (3, 1): -1.0, (2, 2): 0.7953584532226501, (2, 1): 0.4864297339674562, (0, 2): 0.5090955633197518}\n",
      "\n",
      "\n",
      "U: {(0, 1): 0.3975179595324069, (1, 2): 0.6495697769521042, (3, 2): 1.0, (0, 0): 0.29401849243604633, (3, 0): 0.12914270285711582, (3, 1): -1.0, (2, 1): 0.4864297339674562, (2, 0): 0.34439699919803757, (2, 2): 0.7953584532226501, (1, 0): 0.2528979011228795, (0, 2): 0.5090955633197518}\n",
      "\n",
      "U1 {(0, 1): 0.3981020383060546, (1, 2): 0.6495806461716868, (3, 2): 1.0, (0, 0): 0.2954354062836363, (2, 0): 0.34461306281476806, (3, 0): 0.12958868267972745, (1, 0): 0.25348746162470537, (3, 1): -1.0, (2, 2): 0.7953609368471095, (2, 1): 0.48643676237737926, (0, 2): 0.5092854564622092}\n",
      "\n",
      "\n",
      "U: {(0, 1): 0.3981020383060546, (1, 2): 0.6495806461716868, (3, 2): 1.0, (0, 0): 0.2954354062836363, (3, 0): 0.12958868267972745, (3, 1): -1.0, (2, 1): 0.48643676237737926, (2, 0): 0.34461306281476806, (2, 2): 0.7953609368471095, (1, 0): 0.25348746162470537, (0, 2): 0.5092854564622092}\n",
      "\n",
      "U1 {(0, 1): 0.3983438955478806, (1, 2): 0.6495843908408225, (3, 2): 1.0, (0, 0): 0.2960365256921101, (2, 0): 0.3447113218991121, (3, 0): 0.12978438666780845, (1, 0): 0.25374914831907996, (3, 1): -1.0, (2, 2): 0.7953617929302039, (2, 1): 0.48643918314388307, (0, 2): 0.5093629397727583}\n",
      "\n",
      "\n",
      "U: {(0, 1): 0.3983438955478806, (1, 2): 0.6495843908408225, (3, 2): 1.0, (0, 0): 0.2960365256921101, (3, 0): 0.12978438666780845, (3, 1): -1.0, (2, 1): 0.48643918314388307, (2, 0): 0.3447113218991121, (2, 2): 0.7953617929302039, (1, 0): 0.25374914831907996, (0, 2): 0.5093629397727583}\n",
      "\n",
      "U1 {(0, 1): 0.3984432178350045, (1, 2): 0.649585681261095, (3, 2): 1.0, (0, 0): 0.2962883154554812, (2, 0): 0.3447542300124158, (3, 0): 0.12987274656746342, (1, 0): 0.25386699846479516, (3, 1): -1.0, (2, 2): 0.7953620878466678, (2, 1): 0.48644001739269643, (0, 2): 0.5093943765842497}\n",
      "\n",
      "\n",
      "U: {(0, 1): 0.3984432178350045, (1, 2): 0.649585681261095, (3, 2): 1.0, (0, 0): 0.2962883154554812, (3, 0): 0.12987274656746342, (3, 1): -1.0, (2, 1): 0.48644001739269643, (2, 0): 0.3447542300124158, (2, 2): 0.7953620878466678, (1, 0): 0.25386699846479516, (0, 2): 0.5093943765842497}\n",
      "\n",
      "U1 {(0, 1): 0.39848373035096063, (1, 2): 0.6495861258765978, (3, 2): 1.0, (0, 0): 0.29639309509402817, (2, 0): 0.34477338957564474, (3, 0): 0.12991159280001108, (1, 0): 0.25391910533260253, (3, 1): -1.0, (2, 2): 0.7953621894715428, (2, 1): 0.48644030481494355, (0, 2): 0.5094070740057213}\n",
      "\n",
      "\n"
     ]
    }
   ],
   "source": [
    "def value_iteration(mdp, epsilon=0.001):\n",
    "    \"Solving an MDP by value iteration. [Figure 17.4]\"\n",
    "    \n",
    "    ## Initialize the utility/value for all states\n",
    "    U1 = {s: 0 for s in mdp.states}\n",
    "    R, T, gamma = mdp.R, mdp.T, mdp.gamma\n",
    "    \n",
    "    #print(U1)\n",
    "    \n",
    "    while True:\n",
    "        U = U1.copy()\n",
    "        delta = 0\n",
    "        \n",
    "        # For each state s in a MDP, apply value iteration to calculate value of each state\n",
    "        for s in mdp.states:\n",
    "            U1[s] = R(s) + gamma * max([sum([p * U[s1] for (p, s1) in T(s, a)])\n",
    "                                        for a in mdp.actions(s)])\n",
    "            \n",
    "            delta = max(delta, abs(U1[s] - U[s]))\n",
    "        print('U:',U)\n",
    "        print()\n",
    "        print('U1',U1)\n",
    "        print()\n",
    "        print()\n",
    "            \n",
    "            \n",
    "        ## Break at convergence (epsilon)\n",
    "        if delta < epsilon * (1 - gamma) / gamma:\n",
    "            return U\n",
    "utility_grid = value_iteration(sequential_decision_environment)"
   ]
  },
  {
   "cell_type": "code",
   "execution_count": 51,
   "metadata": {
    "collapsed": false
   },
   "outputs": [],
   "source": [
    "from mdp import best_policy\n",
    "best_policy_found = best_policy(sequential_decision_environment, utility_grid)"
   ]
  },
  {
   "cell_type": "code",
   "execution_count": 56,
   "metadata": {
    "collapsed": false
   },
   "outputs": [
    {
     "data": {
      "text/plain": [
       "{(0, 0): 0.2962883154554812,\n",
       " (0, 1): 0.3984432178350045,\n",
       " (0, 2): 0.5093943765842497,\n",
       " (1, 0): 0.25386699846479516,\n",
       " (1, 2): 0.649585681261095,\n",
       " (2, 0): 0.3447542300124158,\n",
       " (2, 1): 0.48644001739269643,\n",
       " (2, 2): 0.7953620878466678,\n",
       " (3, 0): 0.12987274656746342,\n",
       " (3, 1): -1.0,\n",
       " (3, 2): 1.0}"
      ]
     },
     "execution_count": 56,
     "metadata": {},
     "output_type": "execute_result"
    }
   ],
   "source": [
    "utility_grid"
   ]
  },
  {
   "cell_type": "code",
   "execution_count": null,
   "metadata": {
    "collapsed": true
   },
   "outputs": [],
   "source": []
  },
  {
   "cell_type": "code",
   "execution_count": null,
   "metadata": {
    "collapsed": true
   },
   "outputs": [],
   "source": []
  },
  {
   "cell_type": "markdown",
   "metadata": {},
   "source": [
    "## Visualization for Value Iteration\n",
    "\n",
    "To illustrate that values propagate out of states let us create a simple visualisation. We will be using a modified version of the value_iteration function which will store U over time. We will also remove the parameter epsilon and instead add the number of iterations we want."
   ]
  },
  {
   "cell_type": "code",
   "execution_count": 36,
   "metadata": {
    "collapsed": true
   },
   "outputs": [],
   "source": [
    "def value_iteration_instru(mdp, iterations=20):\n",
    "    U_over_time = []\n",
    "    U1 = {s: 0 for s in mdp.states}\n",
    "    R, T, gamma = mdp.R, mdp.T, mdp.gamma\n",
    "    for _ in range(iterations):\n",
    "        U = U1.copy()\n",
    "        for s in mdp.states:\n",
    "            U1[s] = R(s) + gamma * max([sum([p * U[s1] for (p, s1) in T(s, a)])\n",
    "                                        for a in mdp.actions(s)])\n",
    "        U_over_time.append(U)\n",
    "    return U_over_time"
   ]
  },
  {
   "cell_type": "markdown",
   "metadata": {},
   "source": [
    "Next, we define a function to create the visualisation from the utilities returned by **value_iteration_instru**. The reader need not concern himself with the code that immediately follows as it is the usage of Matplotib with IPython Widgets. If you are interested in reading more about these visit [ipywidgets.readthedocs.io](http://ipywidgets.readthedocs.io)"
   ]
  },
  {
   "cell_type": "code",
   "execution_count": 37,
   "metadata": {
    "collapsed": false
   },
   "outputs": [],
   "source": [
    "%matplotlib inline\n",
    "import matplotlib.pyplot as plt\n",
    "from collections import defaultdict\n",
    "import time\n",
    "\n",
    "def make_plot_grid_step_function(columns, row, U_over_time):\n",
    "    '''ipywidgets interactive function supports\n",
    "       single parameter as input. This function\n",
    "       creates and return such a function by taking\n",
    "       in input other parameters\n",
    "    '''\n",
    "    def plot_grid_step(iteration):\n",
    "        data = U_over_time[iteration]\n",
    "        data = defaultdict(lambda: 0, data)\n",
    "        grid = []\n",
    "        for row in range(rows):\n",
    "            current_row = []\n",
    "            for column in range(columns):\n",
    "                current_row.append(data[(column, row)])\n",
    "            grid.append(current_row)\n",
    "        grid.reverse() # output like book\n",
    "        fig = plt.imshow(grid, cmap=plt.cm.bwr, interpolation='nearest')\n",
    "\n",
    "        plt.axis('off')\n",
    "        fig.axes.get_xaxis().set_visible(False)\n",
    "        fig.axes.get_yaxis().set_visible(False)\n",
    "\n",
    "        for col in range(len(grid)):\n",
    "            for row in range(len(grid[0])):\n",
    "                magic = grid[col][row]\n",
    "                fig.axes.text(row, col, \"{0:.2f}\".format(magic), va='center', ha='center')\n",
    "\n",
    "        plt.show()\n",
    "    \n",
    "    return plot_grid_step\n",
    "\n",
    "def make_visualize(slider):\n",
    "    ''' Takes an input a slider and returns \n",
    "        callback function for timer and animation\n",
    "    '''\n",
    "    R(s)\n",
    "    def visualize_callback(Visualize, time_step):\n",
    "        if Visualize is True:\n",
    "            for i in range(slider.min, slider.max + 1):\n",
    "                slider.value = i\n",
    "                time.sleep(float(time_step))\n",
    "    \n",
    "    return visualize_callback\n",
    "    "
   ]
  },
  {
   "cell_type": "code",
   "execution_count": 38,
   "metadata": {
    "collapsed": false
   },
   "outputs": [],
   "source": [
    "columns = 4\n",
    "rows = 3\n",
    "U_over_time = value_iteration_instru(sequential_decision_environment)\n",
    "           "
   ]
  },
  {
   "cell_type": "code",
   "execution_count": 39,
   "metadata": {
    "collapsed": false
   },
   "outputs": [],
   "source": [
    "plot_grid_step = make_plot_grid_step_function(columns, rows, U_over_time)"
   ]
  },
  {
   "cell_type": "code",
   "execution_count": 40,
   "metadata": {
    "collapsed": false,
    "scrolled": true
   },
   "outputs": [
    {
     "data": {
      "image/png": "[encoded data removed]",
      "text/plain": [
       "<matplotlib.figure.Figure at 0x7fbdfc066668>"
      ]
     },
     "metadata": {},
     "output_type": "display_data"
    }
   ],
   "source": [
    "import ipywidgets as widgets\n",
    "from IPython.display import display\n",
    "\n",
    "iteration_slider = widgets.IntSlider(min=1, max=15, step=1, value=0)\n",
    "w=widgets.interactive(plot_grid_step,iteration=iteration_slider)\n",
    "display(w)\n",
    "\n",
    "visualize_callback = make_visualize(iteration_slider)\n",
    "\n",
    "visualize_button = widgets.ToggleButton(desctiption = \"Visualize\", value = False)\n",
    "time_select = widgets.ToggleButtons(description='Extra Delay:',options=['0', '0.1', '0.2', '0.5', '0.7', '1.0'])\n",
    "a = widgets.interactive(visualize_callback, Visualize = visualize_button, time_step=time_select)\n",
    "display(a)"
   ]
  },
  {
   "cell_type": "markdown",
   "metadata": {},
   "source": [
    "Move the slider above to observe how the utility changes across iterations. It is also possible to move the slider using arrow keys or to jump to the value by directly editing the number with a double click. The **Visualize Button** will automatically animate the slider for you. The **Extra Delay Box** allows you to set time delay in seconds upto one second for each time step."
   ]
  },
  {
   "cell_type": "code",
   "execution_count": null,
   "metadata": {
    "collapsed": true
   },
   "outputs": [],
   "source": []
  }
 ],
 "metadata": {
  "anaconda-cloud": {},
  "kernelspec": {
   "display_name": "Python [default]",
   "language": "python",
   "name": "python3"
  },
  "language_info": {
   "codemirror_mode": {
    "name": "ipython",
    "version": 3
   },
   "file_extension": ".py",
   "mimetype": "text/x-python",
   "name": "python",
   "nbconvert_exporter": "python",
   "pygments_lexer": "ipython3",
   "version": "3.5.2"
  },
  "widgets": {
   "state": {
    "3ce7eaa0682d4d9a9e518dac9d09cec4": {
     "views": [
      {
       "cell_index": 27
      }
     ]
    },
    "8d7e9727fa3441c08a9fff7308d8152d": {
     "views": [
      {
       "cell_index": 27
      }
     ]
    },
    "e1c82ed16cc24f79857d046dcb43532f": {
     "views": [
      {
       "cell_index": 27
      }
     ]
    }
   },
   "version": "1.2.0"
  }
 },
 "nbformat": 4,
 "nbformat_minor": 0
}
